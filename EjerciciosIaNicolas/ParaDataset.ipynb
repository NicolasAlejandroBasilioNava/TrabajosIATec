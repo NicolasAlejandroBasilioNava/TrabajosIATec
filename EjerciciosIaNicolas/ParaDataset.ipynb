{
 "cells": [
  {
   "cell_type": "code",
   "execution_count": null,
   "metadata": {},
   "outputs": [],
   "source": [
    "from PIL import Image\n",
    "import os\n",
    "\n",
    "input_dir = start_folder\n",
    "end_folder = end_folder\n",
    "\n",
    "os.makedirs(end_folder, exist_ok=True)\n",
    "\n",
    "input_files = os.listdir(input_dir)\n",
    "\n",
    "for input_file in input_files:\n",
    "    input_path = os.path.join(input_dir, input_file)\n",
    "\n",
    "    img = Image.open(input_path)\n",
    "\n",
    "    for i in range(0, 360, 10):\n",
    "        # Rotar sin hacer zoom (expand=False)\n",
    "        rotated_img = img.rotate(i, expand=False)\n",
    "\n",
    "        output_filename = f\"rotated_{i}_degrees_{input_file}\"\n",
    "        output_path = os.path.join(end_folder, output_filename)\n",
    "        rotated_img.save(output_path)\n",
    "\n",
    "print(f\"Images saved in '{end_folder}' with rotations at 10-degree intervals.\")"
   ]
  },
  {
   "cell_type": "code",
   "execution_count": null,
   "metadata": {},
   "outputs": [],
   "source": [
    "from PIL import Image\n",
    "import os\n",
    "\n",
    "input_dir = start_folder\n",
    "end_folder = end_folder\n",
    "\n",
    "os.makedirs(end_folder, exist_ok=True)\n",
    "\n",
    "input_files = os.listdir(input_dir)\n",
    "\n",
    "for input_file in input_files:\n",
    "    input_path = os.path.join(input_dir, input_file)\n",
    "\n",
    "    img = Image.open(input_path)\n",
    "\n",
    "    for i in range(0, 360, 10):\n",
    "        # Rotar sin expandir\n",
    "        rotated_img = img.rotate(i, expand=False)\n",
    "\n",
    "        # Obtener las dimensiones de la imagen rotada\n",
    "        width, height = rotated_img.size\n",
    "\n",
    "        # Calcular las coordenadas para el recorte sin bordes negros\n",
    "        left = int((width - img.width) / 2)\n",
    "        upper = int((height - img.height) / 2)\n",
    "        right = left + img.width\n",
    "        lower = upper + img.height\n",
    "\n",
    "        # Recortar la imagen\n",
    "        rotated_img = rotated_img.crop((left, upper, right, lower))\n",
    "\n",
    "        output_filename = f\"rotated_{i}_degrees_{input_file}\"\n",
    "        output_path = os.path.join(end_folder, output_filename)\n",
    "        rotated_img.save(output_path)\n",
    "\n",
    "print(f\"Images saved in '{end_folder}' with rotations at 10-degree intervals.\")"
   ]
  }
 ],
 "metadata": {
  "language_info": {
   "name": "python"
  }
 },
 "nbformat": 4,
 "nbformat_minor": 2
}
