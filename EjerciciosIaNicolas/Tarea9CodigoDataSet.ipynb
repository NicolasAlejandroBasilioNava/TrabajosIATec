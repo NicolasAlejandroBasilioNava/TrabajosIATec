{
 "cells": [
  {
   "cell_type": "code",
   "execution_count": 17,
   "metadata": {},
   "outputs": [],
   "source": [
    "# FOLDERS\n",
    "# CUNADEMOISES\n",
    "# GIRASOL\n",
    "# MARGARITA\n",
    "# NOCHEBUENTA\n",
    "#\n",
    "\n",
    "start_folder = '..\\DATASETS\\\\FLORES_SEEDER\\\\MARGARITA'\n",
    "\n",
    "end_folder = '..\\DATASETS\\\\FLORES\\\\MARGARITA'\n",
    "\n",
    "label = 'marga'\n",
    "\n",
    "image_standart_size = 32"
   ]
  },
  {
   "cell_type": "code",
   "execution_count": 18,
   "metadata": {},
   "outputs": [
    {
     "name": "stdout",
     "output_type": "stream",
     "text": [
      "Images saved to '..\\DATASETS\\FLORES\\MARGARITA'\n"
     ]
    }
   ],
   "source": [
    "from PIL import Image\n",
    "import os\n",
    "\n",
    "input_dir = start_folder\n",
    "output_dir = end_folder\n",
    "\n",
    "os.makedirs(output_dir, exist_ok=True)\n",
    "target_size = (image_standart_size, image_standart_size)\n",
    "\n",
    "input_files = os.listdir(input_dir)\n",
    "\n",
    "for input_file in input_files:\n",
    "    input_path = os.path.join(input_dir, input_file)\n",
    "    output_path = os.path.join(output_dir, input_file)\n",
    "    \n",
    "    img = Image.open(input_path)\n",
    "    \n",
    "    # Resize the image to the target size while maintaining aspect ratio\n",
    "    img.thumbnail(target_size)\n",
    "    \n",
    "    # Create a new square image with a white background\n",
    "    small_img = Image.new('RGB', target_size, (255, 255, 255))\n",
    "    \n",
    "    # Paste the resized image onto the square canvas\n",
    "    offset = ((target_size[0] - img.width) // 2, (target_size[1] - img.height) // 2)\n",
    "    small_img.paste(img, offset)\n",
    "    \n",
    "    small_img.save(output_path)\n",
    "\n",
    "print(f\"Images saved to '{output_dir}'\")\n"
   ]
  },
  {
   "cell_type": "markdown",
   "metadata": {},
   "source": [
    "## Rotando las imagenes"
   ]
  },
  {
   "cell_type": "code",
   "execution_count": 19,
   "metadata": {},
   "outputs": [
    {
     "name": "stdout",
     "output_type": "stream",
     "text": [
      "Images saved in '..\\DATASETS\\FLORES\\MARGARITA' with rotations at 15-degree intervals.\n"
     ]
    }
   ],
   "source": [
    "from PIL import Image\n",
    "import os\n",
    "\n",
    "input_dir = end_folder\n",
    "end_folder = end_folder\n",
    "\n",
    "os.makedirs(end_folder, exist_ok=True)\n",
    "\n",
    "input_files = os.listdir(input_dir)\n",
    "\n",
    "for input_file in input_files:\n",
    "    input_path = os.path.join(input_dir, input_file)\n",
    "\n",
    "    img = Image.open(input_path)\n",
    "\n",
    "    for i in range(0, 360, 10):\n",
    "        rotated_img = img.rotate(i, expand=True)\n",
    "\n",
    "        # if i in (45, 135, 225, 315):\n",
    "        if i not in (0, 90, 180, 270):\n",
    "            width, height = rotated_img.size\n",
    "\n",
    "            # Calculate the size of the center section (half size) with the same aspect ratio\n",
    "            if width > height:\n",
    "                new_width = height // 2\n",
    "                new_height = height // 2\n",
    "            else:\n",
    "                new_width = width // 2\n",
    "                new_height = width // 2\n",
    "\n",
    "            # Calculate the coordinates for the center section\n",
    "            left = (width - new_width) // 2\n",
    "            upper = (height - new_height) // 2\n",
    "            right = left + new_width\n",
    "            lower = upper + new_height\n",
    "\n",
    "            # Crop the center section\n",
    "            rotated_img = rotated_img.crop((left, upper, right, lower))\n",
    "\n",
    "            # Resize the image\n",
    "            rotated_img = rotated_img.resize((image_standart_size, image_standart_size))\n",
    "\n",
    "        output_filename = f\"rotated_{i}_degrees_{input_file}\"\n",
    "        output_path = os.path.join(end_folder, output_filename)\n",
    "        rotated_img.save(output_path)\n",
    "\n",
    "print(f\"Images saved in '{end_folder}' with rotations at 15-degree intervals.\")"
   ]
  },
  {
   "cell_type": "markdown",
   "metadata": {},
   "source": [
    "## Agregando Label a la imagen"
   ]
  },
  {
   "cell_type": "code",
   "execution_count": 20,
   "metadata": {},
   "outputs": [
    {
     "name": "stdout",
     "output_type": "stream",
     "text": [
      "Images renamed to 'marga1', 'marga2', ... 'marga2183'.\n"
     ]
    }
   ],
   "source": [
    "import os\n",
    "\n",
    "input_dir = end_folder\n",
    "output_name = label\n",
    "\n",
    "input_files = os.listdir(input_dir)\n",
    "\n",
    "input_files.sort()\n",
    "\n",
    "counter = 1\n",
    "\n",
    "for input_file in input_files:\n",
    "    if input_file.lower().endswith(('.png', '.jpg', '.jpeg', '.gif')):\n",
    "        file_extension = os.path.splitext(input_file)[1]\n",
    "        new_name = f\"{output_name}{counter}{file_extension}\"\n",
    "        \n",
    "        os.rename(os.path.join(input_dir, input_file), os.path.join(input_dir, new_name))\n",
    "        \n",
    "        counter += 1\n",
    "\n",
    "print(f\"Images renamed to '{output_name}1', '{output_name}2', ... '{output_name}{counter - 1}'.\")"
   ]
  },
  {
   "cell_type": "code",
   "execution_count": null,
   "metadata": {},
   "outputs": [],
   "source": []
  }
 ],
 "metadata": {
  "kernelspec": {
   "display_name": "venv",
   "language": "python",
   "name": "python3"
  },
  "language_info": {
   "codemirror_mode": {
    "name": "ipython",
    "version": 3
   },
   "file_extension": ".py",
   "mimetype": "text/x-python",
   "name": "python",
   "nbconvert_exporter": "python",
   "pygments_lexer": "ipython3",
   "version": "3.11.0"
  }
 },
 "nbformat": 4,
 "nbformat_minor": 2
}
